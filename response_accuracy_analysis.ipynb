{
 "cells": [
  {
   "cell_type": "code",
   "execution_count": 8,
   "id": "cf596ded",
   "metadata": {},
   "outputs": [
    {
     "name": "stdout",
     "output_type": "stream",
     "text": [
      "✅ Successfully sorted 184 lines\n",
      "📁 Original file: temp.txt\n",
      "📁 Sorted file: temp2.txt\n",
      "\n",
      "📋 Preview of sorted content:\n",
      "1. Model: all_MiniLM_L12_v2--falcon_7b_quiz_results.json, Correct: 55/90\n",
      "2. Model: all_MiniLM_L12_v2--gemma_3_1b_it_quiz_results.json, Correct: 55/90\n",
      "3. Model: all_MiniLM_L12_v2--Llama_3.1_8B_Instruct_quiz_results.json, Correct: 55/90\n",
      "4. Model: all_MiniLM_L12_v2--zephyr_7b_beta_quiz_results.json, Correct: 55/90\n",
      "5. Model: all_MiniLM_L6_v2--falcon_7b_instruct_quiz_results.json, Correct: 66/90\n",
      "... and 179 more lines\n"
     ]
    }
   ],
   "source": [
    "def sort_temp_file():\n",
    "    \"\"\"Read temp.txt, sort lines alphabetically, and save to temp2.txt\"\"\"\n",
    "    try:\n",
    "        # Read the file\n",
    "        with open('temp.txt', 'r', encoding='utf-8') as file:\n",
    "            lines = file.readlines()\n",
    "        \n",
    "        # Remove empty lines and strip whitespace\n",
    "        lines = [line.strip() for line in lines if line.strip()]\n",
    "        \n",
    "        # Sort alphabetically (case-insensitive)\n",
    "        sorted_lines = sorted(lines, key=str.lower)\n",
    "        \n",
    "        # Write to new file\n",
    "        with open('temp2.txt', 'w', encoding='utf-8') as file:\n",
    "            for line in sorted_lines:\n",
    "                file.write(line + '\\n')\n",
    "        \n",
    "        print(f\"✅ Successfully sorted {len(sorted_lines)} lines\")\n",
    "        print(f\"📁 Original file: temp.txt\")\n",
    "        print(f\"📁 Sorted file: temp2.txt\")\n",
    "        \n",
    "        # Preview the first few lines\n",
    "        print(f\"\\n📋 Preview of sorted content:\")\n",
    "        for i, line in enumerate(sorted_lines[:5], 1):\n",
    "            print(f\"{i}. {line}\")\n",
    "        \n",
    "        if len(sorted_lines) > 5:\n",
    "            print(f\"... and {len(sorted_lines) - 5} more lines\")\n",
    "            \n",
    "    except FileNotFoundError:\n",
    "        print(\"❌ Error: temp.txt file not found!\")\n",
    "        print(\"Make sure temp.txt exists in the current directory\")\n",
    "    except Exception as e:\n",
    "        print(f\"❌ Error occurred: {e}\")\n",
    "\n",
    "# Run the function\n",
    "sort_temp_file()"
   ]
  },
  {
   "cell_type": "code",
   "execution_count": null,
   "id": "dc80d7dc",
   "metadata": {},
   "outputs": [],
   "source": []
  }
 ],
 "metadata": {
  "kernelspec": {
   "display_name": "Python 3",
   "language": "python",
   "name": "python3"
  },
  "language_info": {
   "codemirror_mode": {
    "name": "ipython",
    "version": 3
   },
   "file_extension": ".py",
   "mimetype": "text/x-python",
   "name": "python",
   "nbconvert_exporter": "python",
   "pygments_lexer": "ipython3",
   "version": "3.10.5"
  }
 },
 "nbformat": 4,
 "nbformat_minor": 5
}
